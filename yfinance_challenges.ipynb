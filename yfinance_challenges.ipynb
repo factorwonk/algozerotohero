{
 "cells": [
  {
   "cell_type": "markdown",
   "metadata": {},
   "source": [
    "### Challenge 1\n",
    "\n",
    "##### Download 20 random stocks and\n",
    "\n",
    "##### 1. Calculate Risk and Reward potential\n",
    "##### 2. Compare Covariance and Correlation\n",
    "##### 3. Find the 5 best to invest in long term"
   ]
  },
  {
   "cell_type": "markdown",
   "metadata": {},
   "source": []
  }
 ],
 "metadata": {
  "language_info": {
   "name": "python"
  },
  "orig_nbformat": 4
 },
 "nbformat": 4,
 "nbformat_minor": 2
}
