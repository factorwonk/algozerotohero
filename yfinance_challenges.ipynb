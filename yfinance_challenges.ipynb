{
 "cells": [
  {
   "cell_type": "markdown",
   "metadata": {},
   "source": [
    "### Challenge 1\n",
    "\n",
    "##### Download 20 random stocks and\n",
    "\n",
    "##### 1. Calculate Risk and Reward potential\n",
    "##### 2. Compare Covariance and Correlation\n",
    "##### 3. Find the 5 best to invest in long term"
   ]
  },
  {
   "cell_type": "markdown",
   "metadata": {},
   "source": [
    "-----"
   ]
  },
  {
   "cell_type": "markdown",
   "metadata": {},
   "source": [
    "### Challenge 2\n",
    "\n",
    "##### Take the 5 stocks you picked and plot the moving averages and graph it"
   ]
  },
  {
   "cell_type": "markdown",
   "metadata": {},
   "source": [
    "-----"
   ]
  },
  {
   "cell_type": "markdown",
   "metadata": {},
   "source": [
    "### Challenge 3\n",
    "\n",
    "##### Find the best SMA for the top 5 stocks\n",
    "\n",
    "##### Create a long-bias strategy\n",
    "\n",
    "##### Compare drawdowns\n",
    "\n",
    "##### Pick the best 3 stocks for your portfolio"
   ]
  },
  {
   "cell_type": "markdown",
   "metadata": {},
   "source": [
    "---"
   ]
  },
  {
   "cell_type": "markdown",
   "metadata": {},
   "source": [
    "### Challenge 4\n",
    "\n",
    "##### Watch Stan Weinstein Strategy in QuantProgram YouTube Channel\n",
    "\n",
    "##### Create the strategy in Python\n",
    "\n",
    "##### Backtest it\n",
    "\n",
    "##### Save as a class in a separate python file"
   ]
  },
  {
   "cell_type": "markdown",
   "metadata": {},
   "source": []
  }
 ],
 "metadata": {
  "language_info": {
   "name": "python"
  },
  "orig_nbformat": 4
 },
 "nbformat": 4,
 "nbformat_minor": 2
}
