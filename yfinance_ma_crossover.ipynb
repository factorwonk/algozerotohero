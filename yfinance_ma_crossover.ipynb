{
 "cells": [
  {
   "cell_type": "markdown",
   "metadata": {},
   "source": [
    "### Simple Moving Average Strat\n",
    "---"
   ]
  },
  {
   "cell_type": "code",
   "execution_count": 1,
   "metadata": {},
   "outputs": [],
   "source": [
    "import pandas as pd\n",
    "import numpy as np\n",
    "import seaborn as sns\n",
    "import yfinance as yf\n",
    "import matplotlib.pyplot as plt\n",
    "\n",
    "plt.style.use(\"seaborn\")\n",
    "\n",
    "%matplotlib inline"
   ]
  },
  {
   "cell_type": "code",
   "execution_count": 2,
   "metadata": {},
   "outputs": [],
   "source": [
    "def ticker_history(ticker):\n",
    "    stock = yf.download(ticker)\n",
    "    stock = stock.Close.to_frame()\n",
    "    # Calcualte Log Returns\n",
    "    stock[\"log_returns\"] = np.log(stock.div(stock.shift(1)))\n",
    "    # Drop NA\n",
    "    stock.dropna(inplace=True)\n",
    "    # Cumulative Log Returns\n",
    "    stock[\"cum_ret\"] = stock.log_returns.cumsum().apply(np.exp)\n",
    "    # Cumulative Max Returns\n",
    "    stock[\"cum_max\"] = stock.cum_ret.cummax()\n",
    "    # Drawdown\n",
    "    stock[\"drawdown\"] = stock[\"cum_max\"] - stock[\"cum_ret\"]\n",
    "    # Calculate Pct Drawdown\n",
    "    stock[\"drawdown_pct\"] = (stock[\"cum_max\"] - stock[\"cum_ret\"])/(stock[\"cum_max\"])\n",
    "    return stock"
   ]
  },
  {
   "cell_type": "code",
   "execution_count": 3,
   "metadata": {},
   "outputs": [
    {
     "name": "stdout",
     "output_type": "stream",
     "text": [
      "[*********************100%***********************]  1 of 1 completed\n"
     ]
    },
    {
     "data": {
      "text/html": [
       "<div>\n",
       "<style scoped>\n",
       "    .dataframe tbody tr th:only-of-type {\n",
       "        vertical-align: middle;\n",
       "    }\n",
       "\n",
       "    .dataframe tbody tr th {\n",
       "        vertical-align: top;\n",
       "    }\n",
       "\n",
       "    .dataframe thead th {\n",
       "        text-align: right;\n",
       "    }\n",
       "</style>\n",
       "<table border=\"1\" class=\"dataframe\">\n",
       "  <thead>\n",
       "    <tr style=\"text-align: right;\">\n",
       "      <th></th>\n",
       "      <th>Close</th>\n",
       "      <th>log_returns</th>\n",
       "      <th>cum_ret</th>\n",
       "      <th>cum_max</th>\n",
       "      <th>drawdown</th>\n",
       "      <th>drawdown_pct</th>\n",
       "    </tr>\n",
       "    <tr>\n",
       "      <th>Date</th>\n",
       "      <th></th>\n",
       "      <th></th>\n",
       "      <th></th>\n",
       "      <th></th>\n",
       "      <th></th>\n",
       "      <th></th>\n",
       "    </tr>\n",
       "  </thead>\n",
       "  <tbody>\n",
       "    <tr>\n",
       "      <th>1980-12-15</th>\n",
       "      <td>0.121652</td>\n",
       "      <td>-0.053581</td>\n",
       "      <td>0.947829</td>\n",
       "      <td>0.947829</td>\n",
       "      <td>0.000000</td>\n",
       "      <td>0.000000</td>\n",
       "    </tr>\n",
       "    <tr>\n",
       "      <th>1980-12-16</th>\n",
       "      <td>0.112723</td>\n",
       "      <td>-0.076231</td>\n",
       "      <td>0.878261</td>\n",
       "      <td>0.947829</td>\n",
       "      <td>0.069569</td>\n",
       "      <td>0.073398</td>\n",
       "    </tr>\n",
       "    <tr>\n",
       "      <th>1980-12-17</th>\n",
       "      <td>0.115513</td>\n",
       "      <td>0.024450</td>\n",
       "      <td>0.899998</td>\n",
       "      <td>0.947829</td>\n",
       "      <td>0.047831</td>\n",
       "      <td>0.050464</td>\n",
       "    </tr>\n",
       "    <tr>\n",
       "      <th>1980-12-18</th>\n",
       "      <td>0.118862</td>\n",
       "      <td>0.028580</td>\n",
       "      <td>0.926092</td>\n",
       "      <td>0.947829</td>\n",
       "      <td>0.021738</td>\n",
       "      <td>0.022934</td>\n",
       "    </tr>\n",
       "    <tr>\n",
       "      <th>1980-12-19</th>\n",
       "      <td>0.126116</td>\n",
       "      <td>0.059239</td>\n",
       "      <td>0.982610</td>\n",
       "      <td>0.982610</td>\n",
       "      <td>0.000000</td>\n",
       "      <td>0.000000</td>\n",
       "    </tr>\n",
       "    <tr>\n",
       "      <th>...</th>\n",
       "      <td>...</td>\n",
       "      <td>...</td>\n",
       "      <td>...</td>\n",
       "      <td>...</td>\n",
       "      <td>...</td>\n",
       "      <td>...</td>\n",
       "    </tr>\n",
       "    <tr>\n",
       "      <th>2022-04-25</th>\n",
       "      <td>162.880005</td>\n",
       "      <td>0.006715</td>\n",
       "      <td>1269.049879</td>\n",
       "      <td>1418.097708</td>\n",
       "      <td>149.047828</td>\n",
       "      <td>0.105104</td>\n",
       "    </tr>\n",
       "    <tr>\n",
       "      <th>2022-04-26</th>\n",
       "      <td>156.800003</td>\n",
       "      <td>-0.038043</td>\n",
       "      <td>1221.678653</td>\n",
       "      <td>1418.097708</td>\n",
       "      <td>196.419055</td>\n",
       "      <td>0.138509</td>\n",
       "    </tr>\n",
       "    <tr>\n",
       "      <th>2022-04-27</th>\n",
       "      <td>156.570007</td>\n",
       "      <td>-0.001468</td>\n",
       "      <td>1219.886683</td>\n",
       "      <td>1418.097708</td>\n",
       "      <td>198.211025</td>\n",
       "      <td>0.139772</td>\n",
       "    </tr>\n",
       "    <tr>\n",
       "      <th>2022-04-28</th>\n",
       "      <td>163.639999</td>\n",
       "      <td>0.044166</td>\n",
       "      <td>1274.971238</td>\n",
       "      <td>1418.097708</td>\n",
       "      <td>143.126470</td>\n",
       "      <td>0.100928</td>\n",
       "    </tr>\n",
       "    <tr>\n",
       "      <th>2022-04-29</th>\n",
       "      <td>157.649994</td>\n",
       "      <td>-0.037292</td>\n",
       "      <td>1228.301202</td>\n",
       "      <td>1418.097708</td>\n",
       "      <td>189.796506</td>\n",
       "      <td>0.133839</td>\n",
       "    </tr>\n",
       "  </tbody>\n",
       "</table>\n",
       "<p>10433 rows × 6 columns</p>\n",
       "</div>"
      ],
      "text/plain": [
       "                 Close  log_returns      cum_ret      cum_max    drawdown  \\\n",
       "Date                                                                        \n",
       "1980-12-15    0.121652    -0.053581     0.947829     0.947829    0.000000   \n",
       "1980-12-16    0.112723    -0.076231     0.878261     0.947829    0.069569   \n",
       "1980-12-17    0.115513     0.024450     0.899998     0.947829    0.047831   \n",
       "1980-12-18    0.118862     0.028580     0.926092     0.947829    0.021738   \n",
       "1980-12-19    0.126116     0.059239     0.982610     0.982610    0.000000   \n",
       "...                ...          ...          ...          ...         ...   \n",
       "2022-04-25  162.880005     0.006715  1269.049879  1418.097708  149.047828   \n",
       "2022-04-26  156.800003    -0.038043  1221.678653  1418.097708  196.419055   \n",
       "2022-04-27  156.570007    -0.001468  1219.886683  1418.097708  198.211025   \n",
       "2022-04-28  163.639999     0.044166  1274.971238  1418.097708  143.126470   \n",
       "2022-04-29  157.649994    -0.037292  1228.301202  1418.097708  189.796506   \n",
       "\n",
       "            drawdown_pct  \n",
       "Date                      \n",
       "1980-12-15      0.000000  \n",
       "1980-12-16      0.073398  \n",
       "1980-12-17      0.050464  \n",
       "1980-12-18      0.022934  \n",
       "1980-12-19      0.000000  \n",
       "...                  ...  \n",
       "2022-04-25      0.105104  \n",
       "2022-04-26      0.138509  \n",
       "2022-04-27      0.139772  \n",
       "2022-04-28      0.100928  \n",
       "2022-04-29      0.133839  \n",
       "\n",
       "[10433 rows x 6 columns]"
      ]
     },
     "execution_count": 3,
     "metadata": {},
     "output_type": "execute_result"
    }
   ],
   "source": [
    "aapl = ticker_history(\"AAPL\")\n",
    "aapl"
   ]
  },
  {
   "cell_type": "code",
   "execution_count": 4,
   "metadata": {},
   "outputs": [
    {
     "data": {
      "text/html": [
       "<div>\n",
       "<style scoped>\n",
       "    .dataframe tbody tr th:only-of-type {\n",
       "        vertical-align: middle;\n",
       "    }\n",
       "\n",
       "    .dataframe tbody tr th {\n",
       "        vertical-align: top;\n",
       "    }\n",
       "\n",
       "    .dataframe thead th {\n",
       "        text-align: right;\n",
       "    }\n",
       "</style>\n",
       "<table border=\"1\" class=\"dataframe\">\n",
       "  <thead>\n",
       "    <tr style=\"text-align: right;\">\n",
       "      <th></th>\n",
       "      <th>Close</th>\n",
       "    </tr>\n",
       "    <tr>\n",
       "      <th>Date</th>\n",
       "      <th></th>\n",
       "    </tr>\n",
       "  </thead>\n",
       "  <tbody>\n",
       "    <tr>\n",
       "      <th>1991-01-02</th>\n",
       "      <td>0.388393</td>\n",
       "    </tr>\n",
       "    <tr>\n",
       "      <th>1991-01-03</th>\n",
       "      <td>0.383929</td>\n",
       "    </tr>\n",
       "    <tr>\n",
       "      <th>1991-01-04</th>\n",
       "      <td>0.386161</td>\n",
       "    </tr>\n",
       "    <tr>\n",
       "      <th>1991-01-07</th>\n",
       "      <td>0.386161</td>\n",
       "    </tr>\n",
       "    <tr>\n",
       "      <th>1991-01-08</th>\n",
       "      <td>0.386161</td>\n",
       "    </tr>\n",
       "    <tr>\n",
       "      <th>...</th>\n",
       "      <td>...</td>\n",
       "    </tr>\n",
       "    <tr>\n",
       "      <th>2022-04-25</th>\n",
       "      <td>162.880005</td>\n",
       "    </tr>\n",
       "    <tr>\n",
       "      <th>2022-04-26</th>\n",
       "      <td>156.800003</td>\n",
       "    </tr>\n",
       "    <tr>\n",
       "      <th>2022-04-27</th>\n",
       "      <td>156.570007</td>\n",
       "    </tr>\n",
       "    <tr>\n",
       "      <th>2022-04-28</th>\n",
       "      <td>163.639999</td>\n",
       "    </tr>\n",
       "    <tr>\n",
       "      <th>2022-04-29</th>\n",
       "      <td>157.649994</td>\n",
       "    </tr>\n",
       "  </tbody>\n",
       "</table>\n",
       "<p>7893 rows × 1 columns</p>\n",
       "</div>"
      ],
      "text/plain": [
       "                 Close\n",
       "Date                  \n",
       "1991-01-02    0.388393\n",
       "1991-01-03    0.383929\n",
       "1991-01-04    0.386161\n",
       "1991-01-07    0.386161\n",
       "1991-01-08    0.386161\n",
       "...                ...\n",
       "2022-04-25  162.880005\n",
       "2022-04-26  156.800003\n",
       "2022-04-27  156.570007\n",
       "2022-04-28  163.639999\n",
       "2022-04-29  157.649994\n",
       "\n",
       "[7893 rows x 1 columns]"
      ]
     },
     "execution_count": 4,
     "metadata": {},
     "output_type": "execute_result"
    }
   ],
   "source": [
    "data = aapl.Close.loc[(aapl.index>='1991-01-01')]\n",
    "data = data.to_frame()\n",
    "data"
   ]
  },
  {
   "cell_type": "code",
   "execution_count": 5,
   "metadata": {},
   "outputs": [],
   "source": [
    "# Create 50 day MA and 100 day MA\n",
    "sma_s = 50\n",
    "sma_l = 100"
   ]
  },
  {
   "cell_type": "code",
   "execution_count": 6,
   "metadata": {},
   "outputs": [],
   "source": [
    "data[\"sma_s\"] = data.Close.rolling(sma_s).mean()\n",
    "data[\"sma_l\"] = data.Close.rolling(sma_l).mean()"
   ]
  },
  {
   "cell_type": "code",
   "execution_count": 7,
   "metadata": {},
   "outputs": [
    {
     "data": {
      "text/html": [
       "<div>\n",
       "<style scoped>\n",
       "    .dataframe tbody tr th:only-of-type {\n",
       "        vertical-align: middle;\n",
       "    }\n",
       "\n",
       "    .dataframe tbody tr th {\n",
       "        vertical-align: top;\n",
       "    }\n",
       "\n",
       "    .dataframe thead th {\n",
       "        text-align: right;\n",
       "    }\n",
       "</style>\n",
       "<table border=\"1\" class=\"dataframe\">\n",
       "  <thead>\n",
       "    <tr style=\"text-align: right;\">\n",
       "      <th></th>\n",
       "      <th>Close</th>\n",
       "      <th>sma_s</th>\n",
       "      <th>sma_l</th>\n",
       "    </tr>\n",
       "    <tr>\n",
       "      <th>Date</th>\n",
       "      <th></th>\n",
       "      <th></th>\n",
       "      <th></th>\n",
       "    </tr>\n",
       "  </thead>\n",
       "  <tbody>\n",
       "    <tr>\n",
       "      <th>1991-01-02</th>\n",
       "      <td>0.388393</td>\n",
       "      <td>NaN</td>\n",
       "      <td>NaN</td>\n",
       "    </tr>\n",
       "    <tr>\n",
       "      <th>1991-01-03</th>\n",
       "      <td>0.383929</td>\n",
       "      <td>NaN</td>\n",
       "      <td>NaN</td>\n",
       "    </tr>\n",
       "    <tr>\n",
       "      <th>1991-01-04</th>\n",
       "      <td>0.386161</td>\n",
       "      <td>NaN</td>\n",
       "      <td>NaN</td>\n",
       "    </tr>\n",
       "    <tr>\n",
       "      <th>1991-01-07</th>\n",
       "      <td>0.386161</td>\n",
       "      <td>NaN</td>\n",
       "      <td>NaN</td>\n",
       "    </tr>\n",
       "    <tr>\n",
       "      <th>1991-01-08</th>\n",
       "      <td>0.386161</td>\n",
       "      <td>NaN</td>\n",
       "      <td>NaN</td>\n",
       "    </tr>\n",
       "    <tr>\n",
       "      <th>...</th>\n",
       "      <td>...</td>\n",
       "      <td>...</td>\n",
       "      <td>...</td>\n",
       "    </tr>\n",
       "    <tr>\n",
       "      <th>2022-04-25</th>\n",
       "      <td>162.880005</td>\n",
       "      <td>166.800800</td>\n",
       "      <td>169.4606</td>\n",
       "    </tr>\n",
       "    <tr>\n",
       "      <th>2022-04-26</th>\n",
       "      <td>156.800003</td>\n",
       "      <td>166.564001</td>\n",
       "      <td>169.3809</td>\n",
       "    </tr>\n",
       "    <tr>\n",
       "      <th>2022-04-27</th>\n",
       "      <td>156.570007</td>\n",
       "      <td>166.317801</td>\n",
       "      <td>169.3090</td>\n",
       "    </tr>\n",
       "    <tr>\n",
       "      <th>2022-04-28</th>\n",
       "      <td>163.639999</td>\n",
       "      <td>166.134801</td>\n",
       "      <td>169.3270</td>\n",
       "    </tr>\n",
       "    <tr>\n",
       "      <th>2022-04-29</th>\n",
       "      <td>157.649994</td>\n",
       "      <td>165.836801</td>\n",
       "      <td>169.2503</td>\n",
       "    </tr>\n",
       "  </tbody>\n",
       "</table>\n",
       "<p>7893 rows × 3 columns</p>\n",
       "</div>"
      ],
      "text/plain": [
       "                 Close       sma_s     sma_l\n",
       "Date                                        \n",
       "1991-01-02    0.388393         NaN       NaN\n",
       "1991-01-03    0.383929         NaN       NaN\n",
       "1991-01-04    0.386161         NaN       NaN\n",
       "1991-01-07    0.386161         NaN       NaN\n",
       "1991-01-08    0.386161         NaN       NaN\n",
       "...                ...         ...       ...\n",
       "2022-04-25  162.880005  166.800800  169.4606\n",
       "2022-04-26  156.800003  166.564001  169.3809\n",
       "2022-04-27  156.570007  166.317801  169.3090\n",
       "2022-04-28  163.639999  166.134801  169.3270\n",
       "2022-04-29  157.649994  165.836801  169.2503\n",
       "\n",
       "[7893 rows x 3 columns]"
      ]
     },
     "execution_count": 7,
     "metadata": {},
     "output_type": "execute_result"
    }
   ],
   "source": [
    "data"
   ]
  },
  {
   "cell_type": "code",
   "execution_count": 8,
   "metadata": {},
   "outputs": [
    {
     "data": {
      "image/png": "[encoded data removed]",
      "text/plain": [
       "<Figure size 864x576 with 1 Axes>"
      ]
     },
     "metadata": {
      "needs_background": "light"
     },
     "output_type": "display_data"
    }
   ],
   "source": [
    "data.plot(figsize=(12,8), title='AAPL - SMA{} | SMA{}'.format(sma_s, sma_l), fontsize=12)\n",
    "plt.show()"
   ]
  },
  {
   "cell_type": "code",
   "execution_count": 9,
   "metadata": {},
   "outputs": [
    {
     "data": {
      "image/png": "[encoded data removed]",
      "text/plain": [
       "<Figure size 864x576 with 1 Axes>"
      ]
     },
     "metadata": {
      "needs_background": "light"
     },
     "output_type": "display_data"
    }
   ],
   "source": [
    "# Plot data for a specfic year\n",
    "data.loc[\"2016\"].plot(figsize=(12,8), title='AAPL - SMA{} | SMA{}'.format(sma_s, sma_l), fontsize=12)\n",
    "plt.show()"
   ]
  },
  {
   "cell_type": "code",
   "execution_count": 10,
   "metadata": {},
   "outputs": [
    {
     "data": {
      "text/html": [
       "<div>\n",
       "<style scoped>\n",
       "    .dataframe tbody tr th:only-of-type {\n",
       "        vertical-align: middle;\n",
       "    }\n",
       "\n",
       "    .dataframe tbody tr th {\n",
       "        vertical-align: top;\n",
       "    }\n",
       "\n",
       "    .dataframe thead th {\n",
       "        text-align: right;\n",
       "    }\n",
       "</style>\n",
       "<table border=\"1\" class=\"dataframe\">\n",
       "  <thead>\n",
       "    <tr style=\"text-align: right;\">\n",
       "      <th></th>\n",
       "      <th>Close</th>\n",
       "      <th>sma_s</th>\n",
       "      <th>sma_l</th>\n",
       "    </tr>\n",
       "    <tr>\n",
       "      <th>Date</th>\n",
       "      <th></th>\n",
       "      <th></th>\n",
       "      <th></th>\n",
       "    </tr>\n",
       "  </thead>\n",
       "  <tbody>\n",
       "    <tr>\n",
       "      <th>1991-05-23</th>\n",
       "      <td>0.402902</td>\n",
       "      <td>0.534420</td>\n",
       "      <td>0.513326</td>\n",
       "    </tr>\n",
       "    <tr>\n",
       "      <th>1991-05-24</th>\n",
       "      <td>0.409598</td>\n",
       "      <td>0.530960</td>\n",
       "      <td>0.513538</td>\n",
       "    </tr>\n",
       "    <tr>\n",
       "      <th>1991-05-28</th>\n",
       "      <td>0.410714</td>\n",
       "      <td>0.527344</td>\n",
       "      <td>0.513806</td>\n",
       "    </tr>\n",
       "    <tr>\n",
       "      <th>1991-05-29</th>\n",
       "      <td>0.419643</td>\n",
       "      <td>0.523638</td>\n",
       "      <td>0.514141</td>\n",
       "    </tr>\n",
       "    <tr>\n",
       "      <th>1991-05-30</th>\n",
       "      <td>0.425223</td>\n",
       "      <td>0.519732</td>\n",
       "      <td>0.514531</td>\n",
       "    </tr>\n",
       "    <tr>\n",
       "      <th>...</th>\n",
       "      <td>...</td>\n",
       "      <td>...</td>\n",
       "      <td>...</td>\n",
       "    </tr>\n",
       "    <tr>\n",
       "      <th>2022-04-25</th>\n",
       "      <td>162.880005</td>\n",
       "      <td>166.800800</td>\n",
       "      <td>169.460600</td>\n",
       "    </tr>\n",
       "    <tr>\n",
       "      <th>2022-04-26</th>\n",
       "      <td>156.800003</td>\n",
       "      <td>166.564001</td>\n",
       "      <td>169.380900</td>\n",
       "    </tr>\n",
       "    <tr>\n",
       "      <th>2022-04-27</th>\n",
       "      <td>156.570007</td>\n",
       "      <td>166.317801</td>\n",
       "      <td>169.309000</td>\n",
       "    </tr>\n",
       "    <tr>\n",
       "      <th>2022-04-28</th>\n",
       "      <td>163.639999</td>\n",
       "      <td>166.134801</td>\n",
       "      <td>169.327000</td>\n",
       "    </tr>\n",
       "    <tr>\n",
       "      <th>2022-04-29</th>\n",
       "      <td>157.649994</td>\n",
       "      <td>165.836801</td>\n",
       "      <td>169.250300</td>\n",
       "    </tr>\n",
       "  </tbody>\n",
       "</table>\n",
       "<p>7794 rows × 3 columns</p>\n",
       "</div>"
      ],
      "text/plain": [
       "                 Close       sma_s       sma_l\n",
       "Date                                          \n",
       "1991-05-23    0.402902    0.534420    0.513326\n",
       "1991-05-24    0.409598    0.530960    0.513538\n",
       "1991-05-28    0.410714    0.527344    0.513806\n",
       "1991-05-29    0.419643    0.523638    0.514141\n",
       "1991-05-30    0.425223    0.519732    0.514531\n",
       "...                ...         ...         ...\n",
       "2022-04-25  162.880005  166.800800  169.460600\n",
       "2022-04-26  156.800003  166.564001  169.380900\n",
       "2022-04-27  156.570007  166.317801  169.309000\n",
       "2022-04-28  163.639999  166.134801  169.327000\n",
       "2022-04-29  157.649994  165.836801  169.250300\n",
       "\n",
       "[7794 rows x 3 columns]"
      ]
     },
     "execution_count": 10,
     "metadata": {},
     "output_type": "execute_result"
    }
   ],
   "source": [
    "# Drop Nas\n",
    "data.dropna(inplace=True)\n",
    "data"
   ]
  },
  {
   "cell_type": "code",
   "execution_count": 11,
   "metadata": {},
   "outputs": [
    {
     "data": {
      "text/html": [
       "<div>\n",
       "<style scoped>\n",
       "    .dataframe tbody tr th:only-of-type {\n",
       "        vertical-align: middle;\n",
       "    }\n",
       "\n",
       "    .dataframe tbody tr th {\n",
       "        vertical-align: top;\n",
       "    }\n",
       "\n",
       "    .dataframe thead th {\n",
       "        text-align: right;\n",
       "    }\n",
       "</style>\n",
       "<table border=\"1\" class=\"dataframe\">\n",
       "  <thead>\n",
       "    <tr style=\"text-align: right;\">\n",
       "      <th></th>\n",
       "      <th>Close</th>\n",
       "      <th>sma_s</th>\n",
       "      <th>sma_l</th>\n",
       "      <th>position</th>\n",
       "    </tr>\n",
       "    <tr>\n",
       "      <th>Date</th>\n",
       "      <th></th>\n",
       "      <th></th>\n",
       "      <th></th>\n",
       "      <th></th>\n",
       "    </tr>\n",
       "  </thead>\n",
       "  <tbody>\n",
       "    <tr>\n",
       "      <th>1991-05-23</th>\n",
       "      <td>0.402902</td>\n",
       "      <td>0.534420</td>\n",
       "      <td>0.513326</td>\n",
       "      <td>1</td>\n",
       "    </tr>\n",
       "    <tr>\n",
       "      <th>1991-05-24</th>\n",
       "      <td>0.409598</td>\n",
       "      <td>0.530960</td>\n",
       "      <td>0.513538</td>\n",
       "      <td>1</td>\n",
       "    </tr>\n",
       "    <tr>\n",
       "      <th>1991-05-28</th>\n",
       "      <td>0.410714</td>\n",
       "      <td>0.527344</td>\n",
       "      <td>0.513806</td>\n",
       "      <td>1</td>\n",
       "    </tr>\n",
       "    <tr>\n",
       "      <th>1991-05-29</th>\n",
       "      <td>0.419643</td>\n",
       "      <td>0.523638</td>\n",
       "      <td>0.514141</td>\n",
       "      <td>1</td>\n",
       "    </tr>\n",
       "    <tr>\n",
       "      <th>1991-05-30</th>\n",
       "      <td>0.425223</td>\n",
       "      <td>0.519732</td>\n",
       "      <td>0.514531</td>\n",
       "      <td>1</td>\n",
       "    </tr>\n",
       "    <tr>\n",
       "      <th>...</th>\n",
       "      <td>...</td>\n",
       "      <td>...</td>\n",
       "      <td>...</td>\n",
       "      <td>...</td>\n",
       "    </tr>\n",
       "    <tr>\n",
       "      <th>2022-04-25</th>\n",
       "      <td>162.880005</td>\n",
       "      <td>166.800800</td>\n",
       "      <td>169.460600</td>\n",
       "      <td>-1</td>\n",
       "    </tr>\n",
       "    <tr>\n",
       "      <th>2022-04-26</th>\n",
       "      <td>156.800003</td>\n",
       "      <td>166.564001</td>\n",
       "      <td>169.380900</td>\n",
       "      <td>-1</td>\n",
       "    </tr>\n",
       "    <tr>\n",
       "      <th>2022-04-27</th>\n",
       "      <td>156.570007</td>\n",
       "      <td>166.317801</td>\n",
       "      <td>169.309000</td>\n",
       "      <td>-1</td>\n",
       "    </tr>\n",
       "    <tr>\n",
       "      <th>2022-04-28</th>\n",
       "      <td>163.639999</td>\n",
       "      <td>166.134801</td>\n",
       "      <td>169.327000</td>\n",
       "      <td>-1</td>\n",
       "    </tr>\n",
       "    <tr>\n",
       "      <th>2022-04-29</th>\n",
       "      <td>157.649994</td>\n",
       "      <td>165.836801</td>\n",
       "      <td>169.250300</td>\n",
       "      <td>-1</td>\n",
       "    </tr>\n",
       "  </tbody>\n",
       "</table>\n",
       "<p>7794 rows × 4 columns</p>\n",
       "</div>"
      ],
      "text/plain": [
       "                 Close       sma_s       sma_l  position\n",
       "Date                                                    \n",
       "1991-05-23    0.402902    0.534420    0.513326         1\n",
       "1991-05-24    0.409598    0.530960    0.513538         1\n",
       "1991-05-28    0.410714    0.527344    0.513806         1\n",
       "1991-05-29    0.419643    0.523638    0.514141         1\n",
       "1991-05-30    0.425223    0.519732    0.514531         1\n",
       "...                ...         ...         ...       ...\n",
       "2022-04-25  162.880005  166.800800  169.460600        -1\n",
       "2022-04-26  156.800003  166.564001  169.380900        -1\n",
       "2022-04-27  156.570007  166.317801  169.309000        -1\n",
       "2022-04-28  163.639999  166.134801  169.327000        -1\n",
       "2022-04-29  157.649994  165.836801  169.250300        -1\n",
       "\n",
       "[7794 rows x 4 columns]"
      ]
     },
     "execution_count": 11,
     "metadata": {},
     "output_type": "execute_result"
    }
   ],
   "source": [
    "# Take a position when sma_s > sma_l\n",
    "# Else take short when sma_s < sma_l\n",
    "data[\"position\"] = np.where(data[\"sma_s\"]>data[\"sma_l\"],1,-1)\n",
    "data"
   ]
  },
  {
   "cell_type": "code",
   "execution_count": 12,
   "metadata": {},
   "outputs": [
    {
     "data": {
      "image/png": "[encoded data removed]",
      "text/plain": [
       "<Figure size 864x576 with 2 Axes>"
      ]
     },
     "metadata": {
      "needs_background": "light"
     },
     "output_type": "display_data"
    }
   ],
   "source": [
    "data.loc[:,[\"sma_s\",\"sma_l\",\"position\"]].plot(figsize=(12,8), title='AAPL - SMA{} | SMA{}'.format(sma_s, sma_l), fontsize=12,secondary_y=\"position\")\n",
    "plt.show()"
   ]
  },
  {
   "cell_type": "code",
   "execution_count": 13,
   "metadata": {},
   "outputs": [
    {
     "data": {
      "image/png": "[encoded data removed]",
      "text/plain": [
       "<Figure size 864x576 with 2 Axes>"
      ]
     },
     "metadata": {
      "needs_background": "light"
     },
     "output_type": "display_data"
    }
   ],
   "source": [
    "# 2016 only\n",
    "data.loc[\"2016\",[\"sma_s\",\"sma_l\",\"position\"]].plot(figsize=(12,8), title='AAPL - SMA{} | SMA{}'.format(sma_s, sma_l), fontsize=12,secondary_y=\"position\")\n",
    "plt.show()"
   ]
  },
  {
   "cell_type": "markdown",
   "metadata": {},
   "source": [
    "### Backtest Buy-and-Hold Returns\n",
    "---"
   ]
  },
  {
   "cell_type": "code",
   "execution_count": 14,
   "metadata": {},
   "outputs": [
    {
     "data": {
      "text/html": [
       "<div>\n",
       "<style scoped>\n",
       "    .dataframe tbody tr th:only-of-type {\n",
       "        vertical-align: middle;\n",
       "    }\n",
       "\n",
       "    .dataframe tbody tr th {\n",
       "        vertical-align: top;\n",
       "    }\n",
       "\n",
       "    .dataframe thead th {\n",
       "        text-align: right;\n",
       "    }\n",
       "</style>\n",
       "<table border=\"1\" class=\"dataframe\">\n",
       "  <thead>\n",
       "    <tr style=\"text-align: right;\">\n",
       "      <th></th>\n",
       "      <th>Close</th>\n",
       "      <th>sma_s</th>\n",
       "      <th>sma_l</th>\n",
       "      <th>position</th>\n",
       "      <th>returns_buy_hold</th>\n",
       "    </tr>\n",
       "    <tr>\n",
       "      <th>Date</th>\n",
       "      <th></th>\n",
       "      <th></th>\n",
       "      <th></th>\n",
       "      <th></th>\n",
       "      <th></th>\n",
       "    </tr>\n",
       "  </thead>\n",
       "  <tbody>\n",
       "    <tr>\n",
       "      <th>1991-05-23</th>\n",
       "      <td>0.402902</td>\n",
       "      <td>0.534420</td>\n",
       "      <td>0.513326</td>\n",
       "      <td>1</td>\n",
       "      <td>NaN</td>\n",
       "    </tr>\n",
       "    <tr>\n",
       "      <th>1991-05-24</th>\n",
       "      <td>0.409598</td>\n",
       "      <td>0.530960</td>\n",
       "      <td>0.513538</td>\n",
       "      <td>1</td>\n",
       "      <td>0.016483</td>\n",
       "    </tr>\n",
       "    <tr>\n",
       "      <th>1991-05-28</th>\n",
       "      <td>0.410714</td>\n",
       "      <td>0.527344</td>\n",
       "      <td>0.513806</td>\n",
       "      <td>1</td>\n",
       "      <td>0.002721</td>\n",
       "    </tr>\n",
       "    <tr>\n",
       "      <th>1991-05-29</th>\n",
       "      <td>0.419643</td>\n",
       "      <td>0.523638</td>\n",
       "      <td>0.514141</td>\n",
       "      <td>1</td>\n",
       "      <td>0.021507</td>\n",
       "    </tr>\n",
       "    <tr>\n",
       "      <th>1991-05-30</th>\n",
       "      <td>0.425223</td>\n",
       "      <td>0.519732</td>\n",
       "      <td>0.514531</td>\n",
       "      <td>1</td>\n",
       "      <td>0.013209</td>\n",
       "    </tr>\n",
       "    <tr>\n",
       "      <th>...</th>\n",
       "      <td>...</td>\n",
       "      <td>...</td>\n",
       "      <td>...</td>\n",
       "      <td>...</td>\n",
       "      <td>...</td>\n",
       "    </tr>\n",
       "    <tr>\n",
       "      <th>2022-04-25</th>\n",
       "      <td>162.880005</td>\n",
       "      <td>166.800800</td>\n",
       "      <td>169.460600</td>\n",
       "      <td>-1</td>\n",
       "      <td>0.006715</td>\n",
       "    </tr>\n",
       "    <tr>\n",
       "      <th>2022-04-26</th>\n",
       "      <td>156.800003</td>\n",
       "      <td>166.564001</td>\n",
       "      <td>169.380900</td>\n",
       "      <td>-1</td>\n",
       "      <td>-0.038043</td>\n",
       "    </tr>\n",
       "    <tr>\n",
       "      <th>2022-04-27</th>\n",
       "      <td>156.570007</td>\n",
       "      <td>166.317801</td>\n",
       "      <td>169.309000</td>\n",
       "      <td>-1</td>\n",
       "      <td>-0.001468</td>\n",
       "    </tr>\n",
       "    <tr>\n",
       "      <th>2022-04-28</th>\n",
       "      <td>163.639999</td>\n",
       "      <td>166.134801</td>\n",
       "      <td>169.327000</td>\n",
       "      <td>-1</td>\n",
       "      <td>0.044166</td>\n",
       "    </tr>\n",
       "    <tr>\n",
       "      <th>2022-04-29</th>\n",
       "      <td>157.649994</td>\n",
       "      <td>165.836801</td>\n",
       "      <td>169.250300</td>\n",
       "      <td>-1</td>\n",
       "      <td>-0.037292</td>\n",
       "    </tr>\n",
       "  </tbody>\n",
       "</table>\n",
       "<p>7794 rows × 5 columns</p>\n",
       "</div>"
      ],
      "text/plain": [
       "                 Close       sma_s       sma_l  position  returns_buy_hold\n",
       "Date                                                                      \n",
       "1991-05-23    0.402902    0.534420    0.513326         1               NaN\n",
       "1991-05-24    0.409598    0.530960    0.513538         1          0.016483\n",
       "1991-05-28    0.410714    0.527344    0.513806         1          0.002721\n",
       "1991-05-29    0.419643    0.523638    0.514141         1          0.021507\n",
       "1991-05-30    0.425223    0.519732    0.514531         1          0.013209\n",
       "...                ...         ...         ...       ...               ...\n",
       "2022-04-25  162.880005  166.800800  169.460600        -1          0.006715\n",
       "2022-04-26  156.800003  166.564001  169.380900        -1         -0.038043\n",
       "2022-04-27  156.570007  166.317801  169.309000        -1         -0.001468\n",
       "2022-04-28  163.639999  166.134801  169.327000        -1          0.044166\n",
       "2022-04-29  157.649994  165.836801  169.250300        -1         -0.037292\n",
       "\n",
       "[7794 rows x 5 columns]"
      ]
     },
     "execution_count": 14,
     "metadata": {},
     "output_type": "execute_result"
    }
   ],
   "source": [
    "data[\"returns_buy_hold\"] = np.log(data.Close.div(data.Close.shift(1)))\n",
    "data"
   ]
  },
  {
   "cell_type": "code",
   "execution_count": 15,
   "metadata": {},
   "outputs": [
    {
     "data": {
      "text/html": [
       "<div>\n",
       "<style scoped>\n",
       "    .dataframe tbody tr th:only-of-type {\n",
       "        vertical-align: middle;\n",
       "    }\n",
       "\n",
       "    .dataframe tbody tr th {\n",
       "        vertical-align: top;\n",
       "    }\n",
       "\n",
       "    .dataframe thead th {\n",
       "        text-align: right;\n",
       "    }\n",
       "</style>\n",
       "<table border=\"1\" class=\"dataframe\">\n",
       "  <thead>\n",
       "    <tr style=\"text-align: right;\">\n",
       "      <th></th>\n",
       "      <th>Close</th>\n",
       "      <th>sma_s</th>\n",
       "      <th>sma_l</th>\n",
       "      <th>position</th>\n",
       "      <th>returns_buy_hold</th>\n",
       "      <th>strategy</th>\n",
       "    </tr>\n",
       "    <tr>\n",
       "      <th>Date</th>\n",
       "      <th></th>\n",
       "      <th></th>\n",
       "      <th></th>\n",
       "      <th></th>\n",
       "      <th></th>\n",
       "      <th></th>\n",
       "    </tr>\n",
       "  </thead>\n",
       "  <tbody>\n",
       "    <tr>\n",
       "      <th>1991-05-23</th>\n",
       "      <td>0.402902</td>\n",
       "      <td>0.534420</td>\n",
       "      <td>0.513326</td>\n",
       "      <td>1</td>\n",
       "      <td>NaN</td>\n",
       "      <td>NaN</td>\n",
       "    </tr>\n",
       "    <tr>\n",
       "      <th>1991-05-24</th>\n",
       "      <td>0.409598</td>\n",
       "      <td>0.530960</td>\n",
       "      <td>0.513538</td>\n",
       "      <td>1</td>\n",
       "      <td>0.016483</td>\n",
       "      <td>0.016483</td>\n",
       "    </tr>\n",
       "    <tr>\n",
       "      <th>1991-05-28</th>\n",
       "      <td>0.410714</td>\n",
       "      <td>0.527344</td>\n",
       "      <td>0.513806</td>\n",
       "      <td>1</td>\n",
       "      <td>0.002721</td>\n",
       "      <td>0.002721</td>\n",
       "    </tr>\n",
       "    <tr>\n",
       "      <th>1991-05-29</th>\n",
       "      <td>0.419643</td>\n",
       "      <td>0.523638</td>\n",
       "      <td>0.514141</td>\n",
       "      <td>1</td>\n",
       "      <td>0.021507</td>\n",
       "      <td>0.021507</td>\n",
       "    </tr>\n",
       "    <tr>\n",
       "      <th>1991-05-30</th>\n",
       "      <td>0.425223</td>\n",
       "      <td>0.519732</td>\n",
       "      <td>0.514531</td>\n",
       "      <td>1</td>\n",
       "      <td>0.013209</td>\n",
       "      <td>0.013209</td>\n",
       "    </tr>\n",
       "    <tr>\n",
       "      <th>...</th>\n",
       "      <td>...</td>\n",
       "      <td>...</td>\n",
       "      <td>...</td>\n",
       "      <td>...</td>\n",
       "      <td>...</td>\n",
       "      <td>...</td>\n",
       "    </tr>\n",
       "    <tr>\n",
       "      <th>2022-04-25</th>\n",
       "      <td>162.880005</td>\n",
       "      <td>166.800800</td>\n",
       "      <td>169.460600</td>\n",
       "      <td>-1</td>\n",
       "      <td>0.006715</td>\n",
       "      <td>-0.006715</td>\n",
       "    </tr>\n",
       "    <tr>\n",
       "      <th>2022-04-26</th>\n",
       "      <td>156.800003</td>\n",
       "      <td>166.564001</td>\n",
       "      <td>169.380900</td>\n",
       "      <td>-1</td>\n",
       "      <td>-0.038043</td>\n",
       "      <td>0.038043</td>\n",
       "    </tr>\n",
       "    <tr>\n",
       "      <th>2022-04-27</th>\n",
       "      <td>156.570007</td>\n",
       "      <td>166.317801</td>\n",
       "      <td>169.309000</td>\n",
       "      <td>-1</td>\n",
       "      <td>-0.001468</td>\n",
       "      <td>0.001468</td>\n",
       "    </tr>\n",
       "    <tr>\n",
       "      <th>2022-04-28</th>\n",
       "      <td>163.639999</td>\n",
       "      <td>166.134801</td>\n",
       "      <td>169.327000</td>\n",
       "      <td>-1</td>\n",
       "      <td>0.044166</td>\n",
       "      <td>-0.044166</td>\n",
       "    </tr>\n",
       "    <tr>\n",
       "      <th>2022-04-29</th>\n",
       "      <td>157.649994</td>\n",
       "      <td>165.836801</td>\n",
       "      <td>169.250300</td>\n",
       "      <td>-1</td>\n",
       "      <td>-0.037292</td>\n",
       "      <td>0.037292</td>\n",
       "    </tr>\n",
       "  </tbody>\n",
       "</table>\n",
       "<p>7794 rows × 6 columns</p>\n",
       "</div>"
      ],
      "text/plain": [
       "                 Close       sma_s       sma_l  position  returns_buy_hold  \\\n",
       "Date                                                                         \n",
       "1991-05-23    0.402902    0.534420    0.513326         1               NaN   \n",
       "1991-05-24    0.409598    0.530960    0.513538         1          0.016483   \n",
       "1991-05-28    0.410714    0.527344    0.513806         1          0.002721   \n",
       "1991-05-29    0.419643    0.523638    0.514141         1          0.021507   \n",
       "1991-05-30    0.425223    0.519732    0.514531         1          0.013209   \n",
       "...                ...         ...         ...       ...               ...   \n",
       "2022-04-25  162.880005  166.800800  169.460600        -1          0.006715   \n",
       "2022-04-26  156.800003  166.564001  169.380900        -1         -0.038043   \n",
       "2022-04-27  156.570007  166.317801  169.309000        -1         -0.001468   \n",
       "2022-04-28  163.639999  166.134801  169.327000        -1          0.044166   \n",
       "2022-04-29  157.649994  165.836801  169.250300        -1         -0.037292   \n",
       "\n",
       "            strategy  \n",
       "Date                  \n",
       "1991-05-23       NaN  \n",
       "1991-05-24  0.016483  \n",
       "1991-05-28  0.002721  \n",
       "1991-05-29  0.021507  \n",
       "1991-05-30  0.013209  \n",
       "...              ...  \n",
       "2022-04-25 -0.006715  \n",
       "2022-04-26  0.038043  \n",
       "2022-04-27  0.001468  \n",
       "2022-04-28 -0.044166  \n",
       "2022-04-29  0.037292  \n",
       "\n",
       "[7794 rows x 6 columns]"
      ]
     },
     "execution_count": 15,
     "metadata": {},
     "output_type": "execute_result"
    }
   ],
   "source": [
    "# Returns x Position\n",
    "# Buy and Hold returns are Long Only\n",
    "# Strategy returns involce going short when sma_s < sma_l\n",
    "data[\"strategy\"] = data[\"returns_buy_hold\"]*data.position.shift(1)\n",
    "data"
   ]
  },
  {
   "cell_type": "code",
   "execution_count": 16,
   "metadata": {},
   "outputs": [],
   "source": [
    "# Dropna\n",
    "data.dropna(inplace=True)"
   ]
  },
  {
   "cell_type": "code",
   "execution_count": 17,
   "metadata": {},
   "outputs": [
    {
     "data": {
      "text/plain": [
       "returns_buy_hold    5.969439\n",
       "strategy            2.079627\n",
       "dtype: float64"
      ]
     },
     "execution_count": 17,
     "metadata": {},
     "output_type": "execute_result"
    }
   ],
   "source": [
    "# Returns for buy and hold are higher than for the strategy\n",
    "data[['returns_buy_hold','strategy']].sum()"
   ]
  },
  {
   "cell_type": "code",
   "execution_count": 18,
   "metadata": {},
   "outputs": [
    {
     "data": {
      "text/plain": [
       "returns_buy_hold    391.286196\n",
       "strategy              8.001487\n",
       "dtype: float64"
      ]
     },
     "execution_count": 18,
     "metadata": {},
     "output_type": "execute_result"
    }
   ],
   "source": [
    "# What does a $1 investment retuns for buy and hold vs strategy?\n",
    "data[[\"returns_buy_hold\", \"strategy\"]].sum().apply(np.exp)"
   ]
  },
  {
   "cell_type": "code",
   "execution_count": 19,
   "metadata": {},
   "outputs": [
    {
     "data": {
      "text/plain": [
       "returns_buy_hold    0.441509\n",
       "strategy            0.441656\n",
       "dtype: float64"
      ]
     },
     "execution_count": 19,
     "metadata": {},
     "output_type": "execute_result"
    }
   ],
   "source": [
    "# Annualised standard deviation\n",
    "data[[\"returns_buy_hold\", \"strategy\"]].std()*np.sqrt(252)"
   ]
  },
  {
   "cell_type": "code",
   "execution_count": 20,
   "metadata": {},
   "outputs": [
    {
     "data": {
      "image/png": "[encoded data removed]",
      "text/plain": [
       "<Figure size 864x576 with 1 Axes>"
      ]
     },
     "metadata": {
      "needs_background": "light"
     },
     "output_type": "display_data"
    }
   ],
   "source": [
    "# General Bias to the upside which is why buy and hold outperforms\n",
    "data.Close.plot(figsize=(12,8))\n",
    "plt.show()"
   ]
  },
  {
   "cell_type": "markdown",
   "metadata": {},
   "source": [
    "### Strategy Adjusted with Long-Bias\n",
    "---"
   ]
  },
  {
   "cell_type": "code",
   "execution_count": 21,
   "metadata": {},
   "outputs": [],
   "source": [
    "# Take a position when sma_s > sma_l\n",
    "# Else don't buy when sma_s < sma_l\n",
    "data[\"position2\"] = np.where(data[\"sma_s\"]>data[\"sma_l\"],1,0)"
   ]
  },
  {
   "cell_type": "code",
   "execution_count": 22,
   "metadata": {},
   "outputs": [
    {
     "data": {
      "text/html": [
       "<div>\n",
       "<style scoped>\n",
       "    .dataframe tbody tr th:only-of-type {\n",
       "        vertical-align: middle;\n",
       "    }\n",
       "\n",
       "    .dataframe tbody tr th {\n",
       "        vertical-align: top;\n",
       "    }\n",
       "\n",
       "    .dataframe thead th {\n",
       "        text-align: right;\n",
       "    }\n",
       "</style>\n",
       "<table border=\"1\" class=\"dataframe\">\n",
       "  <thead>\n",
       "    <tr style=\"text-align: right;\">\n",
       "      <th></th>\n",
       "      <th>Close</th>\n",
       "      <th>sma_s</th>\n",
       "      <th>sma_l</th>\n",
       "      <th>position</th>\n",
       "      <th>returns_buy_hold</th>\n",
       "      <th>strategy</th>\n",
       "      <th>position2</th>\n",
       "      <th>strategy2</th>\n",
       "    </tr>\n",
       "    <tr>\n",
       "      <th>Date</th>\n",
       "      <th></th>\n",
       "      <th></th>\n",
       "      <th></th>\n",
       "      <th></th>\n",
       "      <th></th>\n",
       "      <th></th>\n",
       "      <th></th>\n",
       "      <th></th>\n",
       "    </tr>\n",
       "  </thead>\n",
       "  <tbody>\n",
       "    <tr>\n",
       "      <th>1991-05-28</th>\n",
       "      <td>0.410714</td>\n",
       "      <td>0.527344</td>\n",
       "      <td>0.513806</td>\n",
       "      <td>1</td>\n",
       "      <td>0.002721</td>\n",
       "      <td>0.002721</td>\n",
       "      <td>1</td>\n",
       "      <td>0.002721</td>\n",
       "    </tr>\n",
       "    <tr>\n",
       "      <th>1991-05-29</th>\n",
       "      <td>0.419643</td>\n",
       "      <td>0.523638</td>\n",
       "      <td>0.514141</td>\n",
       "      <td>1</td>\n",
       "      <td>0.021507</td>\n",
       "      <td>0.021507</td>\n",
       "      <td>1</td>\n",
       "      <td>0.021507</td>\n",
       "    </tr>\n",
       "    <tr>\n",
       "      <th>1991-05-30</th>\n",
       "      <td>0.425223</td>\n",
       "      <td>0.519732</td>\n",
       "      <td>0.514531</td>\n",
       "      <td>1</td>\n",
       "      <td>0.013209</td>\n",
       "      <td>0.013209</td>\n",
       "      <td>1</td>\n",
       "      <td>0.013209</td>\n",
       "    </tr>\n",
       "    <tr>\n",
       "      <th>1991-05-31</th>\n",
       "      <td>0.419643</td>\n",
       "      <td>0.516027</td>\n",
       "      <td>0.514866</td>\n",
       "      <td>1</td>\n",
       "      <td>-0.013209</td>\n",
       "      <td>-0.013209</td>\n",
       "      <td>1</td>\n",
       "      <td>-0.013209</td>\n",
       "    </tr>\n",
       "    <tr>\n",
       "      <th>1991-06-03</th>\n",
       "      <td>0.439732</td>\n",
       "      <td>0.513259</td>\n",
       "      <td>0.515223</td>\n",
       "      <td>-1</td>\n",
       "      <td>0.046761</td>\n",
       "      <td>0.046761</td>\n",
       "      <td>0</td>\n",
       "      <td>0.046761</td>\n",
       "    </tr>\n",
       "    <tr>\n",
       "      <th>...</th>\n",
       "      <td>...</td>\n",
       "      <td>...</td>\n",
       "      <td>...</td>\n",
       "      <td>...</td>\n",
       "      <td>...</td>\n",
       "      <td>...</td>\n",
       "      <td>...</td>\n",
       "      <td>...</td>\n",
       "    </tr>\n",
       "    <tr>\n",
       "      <th>2022-04-25</th>\n",
       "      <td>162.880005</td>\n",
       "      <td>166.800800</td>\n",
       "      <td>169.460600</td>\n",
       "      <td>-1</td>\n",
       "      <td>0.006715</td>\n",
       "      <td>-0.006715</td>\n",
       "      <td>0</td>\n",
       "      <td>0.000000</td>\n",
       "    </tr>\n",
       "    <tr>\n",
       "      <th>2022-04-26</th>\n",
       "      <td>156.800003</td>\n",
       "      <td>166.564001</td>\n",
       "      <td>169.380900</td>\n",
       "      <td>-1</td>\n",
       "      <td>-0.038043</td>\n",
       "      <td>0.038043</td>\n",
       "      <td>0</td>\n",
       "      <td>-0.000000</td>\n",
       "    </tr>\n",
       "    <tr>\n",
       "      <th>2022-04-27</th>\n",
       "      <td>156.570007</td>\n",
       "      <td>166.317801</td>\n",
       "      <td>169.309000</td>\n",
       "      <td>-1</td>\n",
       "      <td>-0.001468</td>\n",
       "      <td>0.001468</td>\n",
       "      <td>0</td>\n",
       "      <td>-0.000000</td>\n",
       "    </tr>\n",
       "    <tr>\n",
       "      <th>2022-04-28</th>\n",
       "      <td>163.639999</td>\n",
       "      <td>166.134801</td>\n",
       "      <td>169.327000</td>\n",
       "      <td>-1</td>\n",
       "      <td>0.044166</td>\n",
       "      <td>-0.044166</td>\n",
       "      <td>0</td>\n",
       "      <td>0.000000</td>\n",
       "    </tr>\n",
       "    <tr>\n",
       "      <th>2022-04-29</th>\n",
       "      <td>157.649994</td>\n",
       "      <td>165.836801</td>\n",
       "      <td>169.250300</td>\n",
       "      <td>-1</td>\n",
       "      <td>-0.037292</td>\n",
       "      <td>0.037292</td>\n",
       "      <td>0</td>\n",
       "      <td>-0.000000</td>\n",
       "    </tr>\n",
       "  </tbody>\n",
       "</table>\n",
       "<p>7792 rows × 8 columns</p>\n",
       "</div>"
      ],
      "text/plain": [
       "                 Close       sma_s       sma_l  position  returns_buy_hold  \\\n",
       "Date                                                                         \n",
       "1991-05-28    0.410714    0.527344    0.513806         1          0.002721   \n",
       "1991-05-29    0.419643    0.523638    0.514141         1          0.021507   \n",
       "1991-05-30    0.425223    0.519732    0.514531         1          0.013209   \n",
       "1991-05-31    0.419643    0.516027    0.514866         1         -0.013209   \n",
       "1991-06-03    0.439732    0.513259    0.515223        -1          0.046761   \n",
       "...                ...         ...         ...       ...               ...   \n",
       "2022-04-25  162.880005  166.800800  169.460600        -1          0.006715   \n",
       "2022-04-26  156.800003  166.564001  169.380900        -1         -0.038043   \n",
       "2022-04-27  156.570007  166.317801  169.309000        -1         -0.001468   \n",
       "2022-04-28  163.639999  166.134801  169.327000        -1          0.044166   \n",
       "2022-04-29  157.649994  165.836801  169.250300        -1         -0.037292   \n",
       "\n",
       "            strategy  position2  strategy2  \n",
       "Date                                        \n",
       "1991-05-28  0.002721          1   0.002721  \n",
       "1991-05-29  0.021507          1   0.021507  \n",
       "1991-05-30  0.013209          1   0.013209  \n",
       "1991-05-31 -0.013209          1  -0.013209  \n",
       "1991-06-03  0.046761          0   0.046761  \n",
       "...              ...        ...        ...  \n",
       "2022-04-25 -0.006715          0   0.000000  \n",
       "2022-04-26  0.038043          0  -0.000000  \n",
       "2022-04-27  0.001468          0  -0.000000  \n",
       "2022-04-28 -0.044166          0   0.000000  \n",
       "2022-04-29  0.037292          0  -0.000000  \n",
       "\n",
       "[7792 rows x 8 columns]"
      ]
     },
     "execution_count": 22,
     "metadata": {},
     "output_type": "execute_result"
    }
   ],
   "source": [
    "# Strategy 2 Returns\n",
    "data[\"strategy2\"] = data[\"returns_buy_hold\"]*data.position2.shift(1)\n",
    "data.dropna(inplace=True)\n",
    "data"
   ]
  },
  {
   "cell_type": "code",
   "execution_count": 23,
   "metadata": {},
   "outputs": [
    {
     "data": {
      "text/plain": [
       "returns_buy_hold    5.952956\n",
       "strategy2           4.008051\n",
       "dtype: float64"
      ]
     },
     "execution_count": 23,
     "metadata": {},
     "output_type": "execute_result"
    }
   ],
   "source": [
    "data[[\"returns_buy_hold\",\"strategy2\"]].sum()"
   ]
  },
  {
   "cell_type": "code",
   "execution_count": 24,
   "metadata": {},
   "outputs": [
    {
     "data": {
      "text/plain": [
       "returns_buy_hold    384.889566\n",
       "strategy2            55.039468\n",
       "dtype: float64"
      ]
     },
     "execution_count": 24,
     "metadata": {},
     "output_type": "execute_result"
    }
   ],
   "source": [
    "data[[\"returns_buy_hold\",\"strategy2\"]].sum().apply(np.exp)"
   ]
  },
  {
   "cell_type": "code",
   "execution_count": 25,
   "metadata": {},
   "outputs": [
    {
     "data": {
      "text/plain": [
       "returns_buy_hold    0.441528\n",
       "strategy2           0.342800\n",
       "dtype: float64"
      ]
     },
     "execution_count": 25,
     "metadata": {},
     "output_type": "execute_result"
    }
   ],
   "source": [
    "# Reduce risk with a long bias strategy\n",
    "data[[\"returns_buy_hold\",\"strategy2\"]].std()*np.sqrt(252)"
   ]
  },
  {
   "cell_type": "code",
   "execution_count": 26,
   "metadata": {},
   "outputs": [
    {
     "data": {
      "text/plain": [
       "strategy     0.441675\n",
       "strategy2    0.342800\n",
       "dtype: float64"
      ]
     },
     "execution_count": 26,
     "metadata": {},
     "output_type": "execute_result"
    }
   ],
   "source": [
    "data[[\"strategy\",\"strategy2\"]].std()*np.sqrt(252)"
   ]
  },
  {
   "cell_type": "markdown",
   "metadata": {},
   "source": [
    "## Strategy 2 (Long-Bias) is superior to Strategy 1 (Long-Short)"
   ]
  },
  {
   "cell_type": "markdown",
   "metadata": {},
   "source": [
    "#### Creating our first function"
   ]
  },
  {
   "cell_type": "code",
   "execution_count": 41,
   "metadata": {},
   "outputs": [],
   "source": [
    "def test_strategy(stock, start_date, end_date, SMA):\n",
    "    df = yf.download(stock, start_date=start_date, end_date=end_date)\n",
    "    # Get the close price and convert to dataframe\n",
    "    data = df.Close.to_frame()\n",
    "    data[\"returns\"] = np.log(data.Close.div(data.Close.shift(1)))\n",
    "    data[\"SMA_S\"] = data.Close.rolling(int(SMA[0])).mean()\n",
    "    data[\"SMA_L\"] = data.Close.rolling(int(SMA[1])).mean()\n",
    "    data.dropna(inplace=True)\n",
    "\n",
    "    data[\"position\"] = np.where(data[\"SMA_S\"]>data[\"SMA_L\"],1,-1)\n",
    "    data[\"strategy\"] = data[\"returns\"]*data.position.shift(1)\n",
    "    data.dropna(inplace=True)\n",
    "    ret = np.exp(data[\"strategy\"].sum())\n",
    "    std = data[\"strategy\"].std()*np.sqrt(252)\n",
    "    return ret, std\n",
    "\n"
   ]
  },
  {
   "cell_type": "code",
   "execution_count": 42,
   "metadata": {},
   "outputs": [
    {
     "name": "stdout",
     "output_type": "stream",
     "text": [
      "[*********************100%***********************]  1 of 1 completed\n"
     ]
    },
    {
     "data": {
      "text/plain": [
       "(41.009658462156395, 0.3388712004221365)"
      ]
     },
     "execution_count": 42,
     "metadata": {},
     "output_type": "execute_result"
    }
   ],
   "source": [
    "test_strategy(\"MSFT\",\"2000-01-01\",\"2020-01-01\",[50,200])"
   ]
  },
  {
   "cell_type": "code",
   "execution_count": 43,
   "metadata": {},
   "outputs": [
    {
     "name": "stdout",
     "output_type": "stream",
     "text": [
      "[*********************100%***********************]  1 of 1 completed\n"
     ]
    },
    {
     "data": {
      "text/plain": [
       "(6.150632015532761, 0.4549240596190409)"
      ]
     },
     "execution_count": 43,
     "metadata": {},
     "output_type": "execute_result"
    }
   ],
   "source": [
    "test_strategy(\"AAPL\",\"2000-01-01\",\"2020-01-01\",[50,200])"
   ]
  },
  {
   "cell_type": "code",
   "execution_count": 44,
   "metadata": {},
   "outputs": [
    {
     "name": "stdout",
     "output_type": "stream",
     "text": [
      "[*********************100%***********************]  1 of 1 completed\n"
     ]
    },
    {
     "data": {
      "text/plain": [
       "(11.693805569472616, 0.5554090293569561)"
      ]
     },
     "execution_count": 44,
     "metadata": {},
     "output_type": "execute_result"
    }
   ],
   "source": [
    "test_strategy(\"TSLA\",\"2000-01-01\",\"2020-01-01\",[50,200])"
   ]
  },
  {
   "cell_type": "code",
   "execution_count": 45,
   "metadata": {},
   "outputs": [
    {
     "name": "stdout",
     "output_type": "stream",
     "text": [
      "[*********************100%***********************]  1 of 1 completed\n"
     ]
    },
    {
     "data": {
      "text/plain": [
       "(8.753833703933292, 0.19008593529650777)"
      ]
     },
     "execution_count": 45,
     "metadata": {},
     "output_type": "execute_result"
    }
   ],
   "source": [
    "test_strategy(\"SPY\",\"2000-01-01\",\"2020-01-01\",[50,200])"
   ]
  },
  {
   "cell_type": "markdown",
   "metadata": {},
   "source": [
    "### Creating our first Class\n",
    "---"
   ]
  },
  {
   "cell_type": "code",
   "execution_count": 54,
   "metadata": {},
   "outputs": [],
   "source": [
    "class SMABacktester():\n",
    "    \n",
    "    def __init__(self, symbol, SMA_S, SMA_L, start_date, end_date):\n",
    "        self.symbol = symbol\n",
    "        self.SMA_S = SMA_S\n",
    "        self.SMA_L = SMA_L\n",
    "        self.start_date = start_date\n",
    "        self.end_date = end_date\n",
    "        self.results = None\n",
    "        self.get_data()\n",
    "    \n",
    "    def get_data(self):\n",
    "        df = yf.download(self.symbol, start_date=self.start_date, end_date=self.end_date)\n",
    "        # Get the close price and convert to dataframe\n",
    "        data = df.Close.to_frame()\n",
    "        data[\"returns\"] = np.log(data.Close.div(data.Close.shift(1)))\n",
    "        data[\"SMA_S\"] = data.Close.rolling(self.SMA_S).mean()\n",
    "        data[\"SMA_L\"] = data.Close.rolling(self.SMA_L).mean()\n",
    "        data.dropna(inplace=True)\n",
    "        self.data2 = data\n",
    "        \n",
    "        return data\n",
    "    \n",
    "    def test_results(self):\n",
    "        data = self.data2.copy().dropna()\n",
    "        data[\"position\"] = np.where(data[\"SMA_S\"]>data[\"SMA_L\"],1,-1)\n",
    "        data[\"strategy\"] = data[\"returns\"]*data.position.shift(1)\n",
    "        data.dropna(inplace=True)\n",
    "        # Buy and Hold Returns\n",
    "        data[\"returns_bh\"] = data[\"returns\"].cumsum().apply(np.exp)\n",
    "        data[\"returns_strategy\"] = data[\"strategy\"].cumsum().apply(np.exp)\n",
    "        # Last Row\n",
    "        performance = data[\"returns_strategy\"].iloc[-1]\n",
    "        # Outperformance\n",
    "        outperformance = performance - data[\"returns_bh\"].iloc[-1]\n",
    "        self.results = data\n",
    "\n",
    "        ret = np.exp(data[\"strategy\"].sum())\n",
    "        std = data[\"strategy\"].std()*np.sqrt(252)\n",
    "        \n",
    "        #return ret, std\n",
    "        return round(performance, 6), round(outperformance, 6)\n",
    "    \n",
    "    def plot_results(self):\n",
    "        if self.results is None:\n",
    "            print(\"Run the test, please\")\n",
    "        else:\n",
    "            title = \"{}| SMA_S={} | SMA_L{}\".format(self.symbol, self.SMA_S, self.SMA_L)\n",
    "            self.results[[\"returns_bh\", \"returns_strategy\"]].plot(title=title, figsize=(12,8))\n",
    "        "
   ]
  },
  {
   "cell_type": "code",
   "execution_count": 55,
   "metadata": {},
   "outputs": [
    {
     "name": "stdout",
     "output_type": "stream",
     "text": [
      "[*********************100%***********************]  1 of 1 completed\n"
     ]
    }
   ],
   "source": [
    "tester = SMABacktester(\"SPY\", 50, 100, \"2000-01-01\", \"2020-01-01\")"
   ]
  },
  {
   "cell_type": "code",
   "execution_count": 56,
   "metadata": {},
   "outputs": [
    {
     "data": {
      "text/plain": [
       "(2.7359, -6.496593)"
      ]
     },
     "execution_count": 56,
     "metadata": {},
     "output_type": "execute_result"
    }
   ],
   "source": [
    "tester.test_results()"
   ]
  },
  {
   "cell_type": "code",
   "execution_count": 57,
   "metadata": {},
   "outputs": [
    {
     "data": {
      "image/png": "[encoded data removed]",
      "text/plain": [
       "<Figure size 864x576 with 1 Axes>"
      ]
     },
     "metadata": {
      "needs_background": "light"
     },
     "output_type": "display_data"
    }
   ],
   "source": [
    "tester.plot_results()"
   ]
  },
  {
   "cell_type": "code",
   "execution_count": null,
   "metadata": {},
   "outputs": [],
   "source": []
  }
 ],
 "metadata": {
  "interpreter": {
   "hash": "cea6101f56c57928dfe55fae40fbda241d63b6f5b64f22ab2d7ad37cff76f208"
  },
  "kernelspec": {
   "display_name": "Python 3.9.5 ('base')",
   "language": "python",
   "name": "python3"
  },
  "language_info": {
   "codemirror_mode": {
    "name": "ipython",
    "version": 3
   },
   "file_extension": ".py",
   "mimetype": "text/x-python",
   "name": "python",
   "nbconvert_exporter": "python",
   "pygments_lexer": "ipython3",
   "version": "3.9.5"
  },
  "orig_nbformat": 4
 },
 "nbformat": 4,
 "nbformat_minor": 2
}
